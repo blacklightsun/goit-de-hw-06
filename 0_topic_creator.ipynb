{
 "cells": [
  {
   "cell_type": "markdown",
   "id": "3684117b",
   "metadata": {},
   "source": [
    "Код для створення топіків для HW6"
   ]
  },
  {
   "cell_type": "code",
   "execution_count": null,
   "id": "3b196a89",
   "metadata": {},
   "outputs": [
    {
     "name": "stdout",
     "output_type": "stream",
     "text": [
      "Topic 'vasyliev_v_building_sensors_hw6' does not exist.\n",
      "Topic 'vasyliev_v_building_sensors_hw6' created successfully.\n",
      "Topic 'vasyliev_v_alerting' does not exist.\n",
      "Topic 'vasyliev_v_alerting' created successfully.\n"
     ]
    }
   ],
   "source": [
    "from kafka.admin import KafkaAdminClient, NewTopic\n",
    "from config import kafka_config\n",
    "\n",
    "\n",
    "# Створення клієнта Kafka\n",
    "admin_client = KafkaAdminClient(\n",
    "    bootstrap_servers=kafka_config['bootstrap_servers'],\n",
    "    security_protocol=kafka_config['security_protocol'],\n",
    "    sasl_mechanism=kafka_config['sasl_mechanism'],\n",
    "    sasl_plain_username=kafka_config['username'],\n",
    "    sasl_plain_password=kafka_config['password']\n",
    ")\n",
    "\n",
    "# Визначення нових топіків\n",
    "my_name = \"vasyliev_v\"\n",
    "topic_name_list = [\n",
    "\t\t\t\tf'{my_name}_building_sensors_hw6', # топік для даних з сенсорів\n",
    "\t\t\t\tf'{my_name}_alerting', # топік для алертів\n",
    "\t\t\t\t]\n",
    "\n",
    "num_partitions = 2\n",
    "replication_factor = 1\n",
    "\n",
    "# Перевіряємо список існуючих топіків \n",
    "global_topic_list = admin_client.list_topics()\n",
    "\n",
    "# Перевіряємо, чи існує топік\n",
    "# Якщо існує, то нічого не робимо\n",
    "# Якщо немає, то створюємо новий топік\n",
    "for topic in topic_name_list:\n",
    "\tif topic in global_topic_list:\n",
    "\t\tprint(f\"Topic '{topic}' exists.\")\n",
    "\telse:\n",
    "\t\tprint(f\"Topic '{topic}' does not exist.\")\n",
    "\n",
    "\t\t# Створення нового топіку\n",
    "\t\tnew_topic = NewTopic(\n",
    "\t\t\tname=topic, \n",
    "\t\t\tnum_partitions=num_partitions, \n",
    "\t\t\treplication_factor=replication_factor,\n",
    "\t\t\ttopic_configs={\n",
    "\t\t\t\t\"retention.ms\": \"600000\", # встановлюємо граничний термін зберігання повідомлень у мілісекундах\n",
    "\t\t\t\t# \"cleanup.policy\": \"compact\",\n",
    "\t\t\t\t}\n",
    "\t\t\t)\n",
    "\t\ttry:\n",
    "\t\t\tadmin_client.create_topics(new_topics=[new_topic], validate_only=False)\n",
    "\t\t\tprint(f\"Topic '{topic}' created successfully.\")\n",
    "\t\texcept Exception as e:\n",
    "\t\t\tprint(f\"An error occurred: {e}\")\n",
    "\n",
    "# Закриття зв'язку з клієнтом\n",
    "admin_client.close()"
   ]
  }
 ],
 "metadata": {
  "kernelspec": {
   "display_name": "ds_env",
   "language": "python",
   "name": "python3"
  },
  "language_info": {
   "codemirror_mode": {
    "name": "ipython",
    "version": 3
   },
   "file_extension": ".py",
   "mimetype": "text/x-python",
   "name": "python",
   "nbconvert_exporter": "python",
   "pygments_lexer": "ipython3",
   "version": "3.13.1"
  }
 },
 "nbformat": 4,
 "nbformat_minor": 5
}
