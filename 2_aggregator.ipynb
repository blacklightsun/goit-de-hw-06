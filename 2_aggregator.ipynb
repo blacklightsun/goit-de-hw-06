{
 "cells": [
  {
   "cell_type": "markdown",
   "id": "6d930ceb-27cf-45c4-a514-6c7a5c83bf06",
   "metadata": {},
   "source": [
    "Це код для стрімінгової агрегоції та фільтрації даних"
   ]
  },
  {
   "cell_type": "code",
   "execution_count": 2,
   "id": "73839d67",
   "metadata": {},
   "outputs": [],
   "source": [
    "# from kafka import KafkaProducer\n",
    "from config import kafka_config\n",
    "\n",
    "from pyspark.sql.functions import *\n",
    "from pyspark.sql.types import StructType, StructField, IntegerType, DoubleType, TimestampType, StringType, TimestampNTZType\n",
    "from pyspark.sql import SparkSession\n",
    "\n",
    "import os\n",
    "import json\n",
    "import time\n",
    "import random\n"
   ]
  },
  {
   "cell_type": "code",
   "execution_count": 3,
   "id": "b2ce89e9",
   "metadata": {},
   "outputs": [],
   "source": [
    "#  Пакет, необхідний для читання Kafka зі Spark\n",
    "os.environ[\n",
    "    'PYSPARK_SUBMIT_ARGS'] = '--packages org.apache.spark:spark-streaming-kafka-0-10_2.12:3.5.1,org.apache.spark:spark-sql-kafka-0-10_2.12:3.5.1 pyspark-shell'\n",
    "\n",
    "# Створення SparkSession\n",
    "spark = (SparkSession.builder\n",
    "         .appName(\"KafkaStreaming\")\n",
    "         .master(\"local[*]\")\n",
    "         .getOrCreate())\n"
   ]
  },
  {
   "cell_type": "code",
   "execution_count": 4,
   "id": "ed2c3663-098d-4677-8f57-6bee45e94b6f",
   "metadata": {},
   "outputs": [],
   "source": [
    "# Читання потоку даних із Kafka\n",
    "# Вказівки, як саме ми будемо під'єднуватися, паролі, протоколи\n",
    "# maxOffsetsPerTrigger - будемо читати 5 записів за 1 тригер.\n",
    "\n",
    "# Назва топіків\n",
    "my_name = \"vasyliev_v\"\n",
    "sensor_topic_name = f'{my_name}building_sensors_hw6'\n",
    "alert_topic_name = f'{my_name}_alerting'\n",
    "\n",
    "# читання даних з топіка\n",
    "df = spark \\\n",
    "    .readStream \\\n",
    "    .format(\"kafka\") \\\n",
    "    .option(\"kafka.bootstrap.servers\", kafka_config['bootstrap_servers'][0]) \\\n",
    "    .option(\"kafka.security.protocol\", \"SASL_PLAINTEXT\") \\\n",
    "    .option(\"kafka.sasl.mechanism\", \"PLAIN\") \\\n",
    "    .option(\"kafka.sasl.jaas.config\",\n",
    "            'org.apache.kafka.common.security.plain.PlainLoginModule required username=\"admin\" password=\"VawEzo1ikLtrA8Ug8THa\";') \\\n",
    "    .option(\"subscribe\", sensor_topic_name) \\\n",
    "    .option(\"startingOffsets\", \"latest\") \\\n",
    "    .option(\"maxOffsetsPerTrigger\", \"1\") \\\n",
    "    .load()"
   ]
  },
  {
   "cell_type": "code",
   "execution_count": 5,
   "id": "d3460036",
   "metadata": {},
   "outputs": [],
   "source": [
    "# Визначення схеми для JSON,\n",
    "# оскільки Kafka має структуру ключ-значення, а значення має формат JSON. \n",
    "json_schema = StructType([\n",
    "    StructField(\"timestamp\", StringType(), True),\n",
    "    StructField(\"sensor_id\", StringType(), True),\n",
    "    StructField(\"temperature\", IntegerType(), True),\n",
    "    StructField(\"humidity\", IntegerType(), True),\n",
    "])\n",
    "\n",
    "# підготовка отриманих даних для агрегації\n",
    "clean_df = df.selectExpr(\"CAST(key AS STRING) AS key_deserialized\", \"CAST(value AS STRING) AS value_deserialized\", \"*\") \\\n",
    "    .drop('key', 'value') \\\n",
    "    .withColumnRenamed(\"key_deserialized\", \"key\") \\\n",
    "    .withColumn(\"value_json\", from_json(col(\"value_deserialized\"), json_schema)) \\\n",
    "    .withColumn(\"timestamp\", from_unixtime(col(\"value_json.timestamp\").cast(DoubleType())).cast(\"timestamp\")) \\\n",
    "    .withColumn(\"sensor_id\", col(\"value_json.sensor_id\")) \\\n",
    "    .withColumn(\"temperature\", col(\"value_json.temperature\")) \\\n",
    "    .withColumn(\"humidity\", col(\"value_json.humidity\")) \\\n",
    "    .drop(\"value_json\", \"value_deserialized\")"
   ]
  },
  {
   "cell_type": "code",
   "execution_count": 6,
   "id": "734aa7f8",
   "metadata": {
    "editable": true,
    "scrolled": true,
    "slideshow": {
     "slide_type": ""
    },
    "tags": []
   },
   "outputs": [],
   "source": [
    "# Виведення даних на екран для тестування зчитування з вхідного топіку\n",
    "# displaying_df = clean_df.writeStream \\\n",
    "#     .trigger(availableNow=True) \\\n",
    "#     .outputMode(\"append\") \\\n",
    "#     .format(\"console\") \\\n",
    "#     .option(\"checkpointLocation\", \"/tmp/checkpoints-9\") \\\n",
    "#     .start() \\\n",
    "#     .awaitTermination()"
   ]
  },
  {
   "cell_type": "code",
   "execution_count": 7,
   "id": "6b476965",
   "metadata": {},
   "outputs": [],
   "source": [
    "# агрегація та розрахунок середніх значень для вікна агрегації\n",
    "grouped_df = clean_df.withWatermark(\"timestamp\", \"10 seconds\").groupBy(\n",
    "                                                                    window(\"timestamp\", \"60 seconds\", '30 seconds'),\n",
    "                                                                    ).agg(\n",
    "                                                                        mean('temperature').alias('avg_temperature'),\n",
    "                                                                        mean('humidity').alias('avg_humidity')\n",
    "                                                                    )\n",
    "\n",
    "# завантаження умов для алертів з файлу та кешування даних для їх багаторазового використання\n",
    "alert_df = spark.read.csv('./alerts_conditions.csv', header=True)\n",
    "alert_df = alert_df.cache()\n",
    "\n",
    "# крос-джойн агрегованих даних з умовами алертів\n",
    "cross_join_df = grouped_df.crossJoin(alert_df)\n",
    "\n",
    "# фільтрація випадків, коли стрімінгові дані відповідают умовам алертів\n",
    "filtered_df = cross_join_df.filter((\n",
    "                                        (cross_join_df.avg_temperature > cross_join_df.temperature_min) & (cross_join_df.avg_temperature < cross_join_df.temperature_max)\n",
    "                                    ) | (\n",
    "                                           (cross_join_df.avg_humidity > cross_join_df.humidity_min) & (cross_join_df.avg_humidity < cross_join_df.humidity_max)\n",
    "                                        )\n",
    "                                    ).withColumn('timestamp', from_unixtime(lit(time.time()).cast(DoubleType())).cast(\"timestamp\")) \\\n",
    "    .drop('id', 'humidity_min', 'humidity_max', 'temperature_min', 'temperature_max')\n",
    "\n",
    "# перетворення даних на json-структуру для відправки їх у вихідний топік\n",
    "prepare_to_kafka_df = filtered_df.select(\n",
    "                                        to_json(struct(\n",
    "                                                        col(\"window\"), \n",
    "                                                        col(\"avg_temperature\"),\n",
    "                                                        col(\"avg_humidity\"),\n",
    "                                                        col(\"code\"),\n",
    "                                                        col(\"message\"),\n",
    "                                                        col(\"timestamp\"),        \n",
    "                                                    )).alias(\"value\")\n",
    "                                        )"
   ]
  },
  {
   "cell_type": "code",
   "execution_count": 8,
   "id": "ab094169-7e1d-4eaa-9a8f-bd124305bb00",
   "metadata": {},
   "outputs": [],
   "source": [
    "# Виведення даних на екран для тестування агрегації та фільтрації\n",
    "\n",
    "# def process_batch(batch_df, epoch_id):\n",
    "#     # if batch_df.count() > 0:  # Умова для відправки даних\n",
    "#     if not batch_df.isEmpty():  # Умова для відправки даних       \n",
    "#         batch_df.write.format(\"console\").save()\n",
    "\n",
    "# query = prepare_to_kafka_df.writeStream \\\n",
    "#     .foreachBatch(process_batch) \\\n",
    "#     .trigger(processingTime='15 seconds') \\\n",
    "#     .outputMode(\"update\") \\\n",
    "#     .option(\"checkpointLocation\", \"/tmp/checkpoints-14\") \\\n",
    "#     .start() \\\n",
    "#     .awaitTermination()\n",
    "#     # .format(\"console\") \\"
   ]
  },
  {
   "cell_type": "code",
   "execution_count": 9,
   "id": "7ee2b2fc-1c0a-4270-8ca2-f131c310afd4",
   "metadata": {},
   "outputs": [
    {
     "name": "stderr",
     "output_type": "stream",
     "text": [
      "ERROR:root:KeyboardInterrupt while sending command.\n",
      "Traceback (most recent call last):\n",
      "  File \"/usr/local/spark/python/lib/py4j-0.10.9.7-src.zip/py4j/java_gateway.py\", line 1038, in send_command\n",
      "    response = connection.send_command(command)\n",
      "               ^^^^^^^^^^^^^^^^^^^^^^^^^^^^^^^^\n",
      "  File \"/usr/local/spark/python/lib/py4j-0.10.9.7-src.zip/py4j/clientserver.py\", line 511, in send_command\n",
      "    answer = smart_decode(self.stream.readline()[:-1])\n",
      "                          ^^^^^^^^^^^^^^^^^^^^^^\n",
      "  File \"/opt/conda/lib/python3.11/socket.py\", line 706, in readinto\n",
      "    return self._sock.recv_into(b)\n",
      "           ^^^^^^^^^^^^^^^^^^^^^^^\n",
      "KeyboardInterrupt\n"
     ]
    },
    {
     "ename": "KeyboardInterrupt",
     "evalue": "",
     "output_type": "error",
     "traceback": [
      "\u001b[0;31m---------------------------------------------------------------------------\u001b[0m",
      "\u001b[0;31mKeyboardInterrupt\u001b[0m                         Traceback (most recent call last)",
      "Cell \u001b[0;32mIn[9], line 26\u001b[0m\n\u001b[1;32m     17\u001b[0m         \u001b[38;5;28mprint\u001b[39m(\u001b[38;5;124mf\u001b[39m\u001b[38;5;124m\"\u001b[39m\u001b[38;5;124mПомилка під час запису даних у Kafka: \u001b[39m\u001b[38;5;132;01m{\u001b[39;00me\u001b[38;5;132;01m}\u001b[39;00m\u001b[38;5;124m\"\u001b[39m)\n\u001b[1;32m     19\u001b[0m \u001b[38;5;66;03m# Запис оброблених даних у вихідний топік\u001b[39;00m\n\u001b[1;32m     20\u001b[0m query \u001b[38;5;241m=\u001b[39m \u001b[43mprepare_to_kafka_df\u001b[49m\u001b[38;5;241;43m.\u001b[39;49m\u001b[43mwriteStream\u001b[49m\u001b[43m \u001b[49m\u001b[43m\\\u001b[49m\n\u001b[1;32m     21\u001b[0m \u001b[43m    \u001b[49m\u001b[38;5;241;43m.\u001b[39;49m\u001b[43mforeachBatch\u001b[49m\u001b[43m(\u001b[49m\u001b[43mprocess_batch\u001b[49m\u001b[43m)\u001b[49m\u001b[43m \u001b[49m\u001b[43m\\\u001b[49m\n\u001b[1;32m     22\u001b[0m \u001b[43m    \u001b[49m\u001b[38;5;241;43m.\u001b[39;49m\u001b[43mtrigger\u001b[49m\u001b[43m(\u001b[49m\u001b[43mprocessingTime\u001b[49m\u001b[38;5;241;43m=\u001b[39;49m\u001b[38;5;124;43m'\u001b[39;49m\u001b[38;5;124;43m30 seconds\u001b[39;49m\u001b[38;5;124;43m'\u001b[39;49m\u001b[43m)\u001b[49m\u001b[43m \u001b[49m\u001b[43m\\\u001b[49m\n\u001b[1;32m     23\u001b[0m \u001b[43m    \u001b[49m\u001b[38;5;241;43m.\u001b[39;49m\u001b[43moutputMode\u001b[49m\u001b[43m(\u001b[49m\u001b[38;5;124;43m\"\u001b[39;49m\u001b[38;5;124;43mupdate\u001b[39;49m\u001b[38;5;124;43m\"\u001b[39;49m\u001b[43m)\u001b[49m\u001b[43m \u001b[49m\u001b[43m\\\u001b[49m\n\u001b[1;32m     24\u001b[0m \u001b[43m    \u001b[49m\u001b[38;5;241;43m.\u001b[39;49m\u001b[43moption\u001b[49m\u001b[43m(\u001b[49m\u001b[38;5;124;43m\"\u001b[39;49m\u001b[38;5;124;43mcheckpointLocation\u001b[39;49m\u001b[38;5;124;43m\"\u001b[39;49m\u001b[43m,\u001b[49m\u001b[43m \u001b[49m\u001b[38;5;124;43m\"\u001b[39;49m\u001b[38;5;124;43m/tmp/checkpoints-15\u001b[39;49m\u001b[38;5;124;43m\"\u001b[39;49m\u001b[43m)\u001b[49m\u001b[43m \u001b[49m\u001b[43m\\\u001b[49m\n\u001b[1;32m     25\u001b[0m \u001b[43m    \u001b[49m\u001b[38;5;241;43m.\u001b[39;49m\u001b[43mstart\u001b[49m\u001b[43m(\u001b[49m\u001b[43m)\u001b[49m\u001b[43m \u001b[49m\u001b[43m\\\u001b[49m\n\u001b[0;32m---> 26\u001b[0m \u001b[43m    \u001b[49m\u001b[38;5;241;43m.\u001b[39;49m\u001b[43mawaitTermination\u001b[49m\u001b[43m(\u001b[49m\u001b[43m)\u001b[49m\n",
      "File \u001b[0;32m/usr/local/spark/python/pyspark/sql/streaming/query.py:221\u001b[0m, in \u001b[0;36mStreamingQuery.awaitTermination\u001b[0;34m(self, timeout)\u001b[0m\n\u001b[1;32m    219\u001b[0m     \u001b[38;5;28;01mreturn\u001b[39;00m \u001b[38;5;28mself\u001b[39m\u001b[38;5;241m.\u001b[39m_jsq\u001b[38;5;241m.\u001b[39mawaitTermination(\u001b[38;5;28mint\u001b[39m(timeout \u001b[38;5;241m*\u001b[39m \u001b[38;5;241m1000\u001b[39m))\n\u001b[1;32m    220\u001b[0m \u001b[38;5;28;01melse\u001b[39;00m:\n\u001b[0;32m--> 221\u001b[0m     \u001b[38;5;28;01mreturn\u001b[39;00m \u001b[38;5;28;43mself\u001b[39;49m\u001b[38;5;241;43m.\u001b[39;49m\u001b[43m_jsq\u001b[49m\u001b[38;5;241;43m.\u001b[39;49m\u001b[43mawaitTermination\u001b[49m\u001b[43m(\u001b[49m\u001b[43m)\u001b[49m\n",
      "File \u001b[0;32m/usr/local/spark/python/lib/py4j-0.10.9.7-src.zip/py4j/java_gateway.py:1321\u001b[0m, in \u001b[0;36mJavaMember.__call__\u001b[0;34m(self, *args)\u001b[0m\n\u001b[1;32m   1314\u001b[0m args_command, temp_args \u001b[38;5;241m=\u001b[39m \u001b[38;5;28mself\u001b[39m\u001b[38;5;241m.\u001b[39m_build_args(\u001b[38;5;241m*\u001b[39margs)\n\u001b[1;32m   1316\u001b[0m command \u001b[38;5;241m=\u001b[39m proto\u001b[38;5;241m.\u001b[39mCALL_COMMAND_NAME \u001b[38;5;241m+\u001b[39m\\\n\u001b[1;32m   1317\u001b[0m     \u001b[38;5;28mself\u001b[39m\u001b[38;5;241m.\u001b[39mcommand_header \u001b[38;5;241m+\u001b[39m\\\n\u001b[1;32m   1318\u001b[0m     args_command \u001b[38;5;241m+\u001b[39m\\\n\u001b[1;32m   1319\u001b[0m     proto\u001b[38;5;241m.\u001b[39mEND_COMMAND_PART\n\u001b[0;32m-> 1321\u001b[0m answer \u001b[38;5;241m=\u001b[39m \u001b[38;5;28;43mself\u001b[39;49m\u001b[38;5;241;43m.\u001b[39;49m\u001b[43mgateway_client\u001b[49m\u001b[38;5;241;43m.\u001b[39;49m\u001b[43msend_command\u001b[49m\u001b[43m(\u001b[49m\u001b[43mcommand\u001b[49m\u001b[43m)\u001b[49m\n\u001b[1;32m   1322\u001b[0m return_value \u001b[38;5;241m=\u001b[39m get_return_value(\n\u001b[1;32m   1323\u001b[0m     answer, \u001b[38;5;28mself\u001b[39m\u001b[38;5;241m.\u001b[39mgateway_client, \u001b[38;5;28mself\u001b[39m\u001b[38;5;241m.\u001b[39mtarget_id, \u001b[38;5;28mself\u001b[39m\u001b[38;5;241m.\u001b[39mname)\n\u001b[1;32m   1325\u001b[0m \u001b[38;5;28;01mfor\u001b[39;00m temp_arg \u001b[38;5;129;01min\u001b[39;00m temp_args:\n",
      "File \u001b[0;32m/usr/local/spark/python/lib/py4j-0.10.9.7-src.zip/py4j/java_gateway.py:1038\u001b[0m, in \u001b[0;36mGatewayClient.send_command\u001b[0;34m(self, command, retry, binary)\u001b[0m\n\u001b[1;32m   1036\u001b[0m connection \u001b[38;5;241m=\u001b[39m \u001b[38;5;28mself\u001b[39m\u001b[38;5;241m.\u001b[39m_get_connection()\n\u001b[1;32m   1037\u001b[0m \u001b[38;5;28;01mtry\u001b[39;00m:\n\u001b[0;32m-> 1038\u001b[0m     response \u001b[38;5;241m=\u001b[39m \u001b[43mconnection\u001b[49m\u001b[38;5;241;43m.\u001b[39;49m\u001b[43msend_command\u001b[49m\u001b[43m(\u001b[49m\u001b[43mcommand\u001b[49m\u001b[43m)\u001b[49m\n\u001b[1;32m   1039\u001b[0m     \u001b[38;5;28;01mif\u001b[39;00m binary:\n\u001b[1;32m   1040\u001b[0m         \u001b[38;5;28;01mreturn\u001b[39;00m response, \u001b[38;5;28mself\u001b[39m\u001b[38;5;241m.\u001b[39m_create_connection_guard(connection)\n",
      "File \u001b[0;32m/usr/local/spark/python/lib/py4j-0.10.9.7-src.zip/py4j/clientserver.py:511\u001b[0m, in \u001b[0;36mClientServerConnection.send_command\u001b[0;34m(self, command)\u001b[0m\n\u001b[1;32m    509\u001b[0m \u001b[38;5;28;01mtry\u001b[39;00m:\n\u001b[1;32m    510\u001b[0m     \u001b[38;5;28;01mwhile\u001b[39;00m \u001b[38;5;28;01mTrue\u001b[39;00m:\n\u001b[0;32m--> 511\u001b[0m         answer \u001b[38;5;241m=\u001b[39m smart_decode(\u001b[38;5;28mself\u001b[39m\u001b[38;5;241m.\u001b[39mstream\u001b[38;5;241m.\u001b[39mreadline()[:\u001b[38;5;241m-\u001b[39m\u001b[38;5;241m1\u001b[39m])\n\u001b[1;32m    512\u001b[0m         logger\u001b[38;5;241m.\u001b[39mdebug(\u001b[38;5;124m\"\u001b[39m\u001b[38;5;124mAnswer received: \u001b[39m\u001b[38;5;132;01m{0}\u001b[39;00m\u001b[38;5;124m\"\u001b[39m\u001b[38;5;241m.\u001b[39mformat(answer))\n\u001b[1;32m    513\u001b[0m         \u001b[38;5;66;03m# Happens when a the other end is dead. There might be an empty\u001b[39;00m\n\u001b[1;32m    514\u001b[0m         \u001b[38;5;66;03m# answer before the socket raises an error.\u001b[39;00m\n",
      "File \u001b[0;32m/opt/conda/lib/python3.11/socket.py:706\u001b[0m, in \u001b[0;36mSocketIO.readinto\u001b[0;34m(self, b)\u001b[0m\n\u001b[1;32m    704\u001b[0m \u001b[38;5;28;01mwhile\u001b[39;00m \u001b[38;5;28;01mTrue\u001b[39;00m:\n\u001b[1;32m    705\u001b[0m     \u001b[38;5;28;01mtry\u001b[39;00m:\n\u001b[0;32m--> 706\u001b[0m         \u001b[38;5;28;01mreturn\u001b[39;00m \u001b[38;5;28;43mself\u001b[39;49m\u001b[38;5;241;43m.\u001b[39;49m\u001b[43m_sock\u001b[49m\u001b[38;5;241;43m.\u001b[39;49m\u001b[43mrecv_into\u001b[49m\u001b[43m(\u001b[49m\u001b[43mb\u001b[49m\u001b[43m)\u001b[49m\n\u001b[1;32m    707\u001b[0m     \u001b[38;5;28;01mexcept\u001b[39;00m timeout:\n\u001b[1;32m    708\u001b[0m         \u001b[38;5;28mself\u001b[39m\u001b[38;5;241m.\u001b[39m_timeout_occurred \u001b[38;5;241m=\u001b[39m \u001b[38;5;28;01mTrue\u001b[39;00m\n",
      "\u001b[0;31mKeyboardInterrupt\u001b[0m: "
     ]
    }
   ],
   "source": [
    "# надсилання агрегованих та відфільтрованих даних до вихідного топіку\n",
    "\n",
    "\n",
    "def process_batch(batch_df, epoch_id):\n",
    "    '''Фільтрація пустих батчів, щоб не перевантажувати вихідний топік'''\n",
    "    try:\n",
    "        if not batch_df.isEmpty():  # Перевірка на порожній DataFrame\n",
    "            batch_df.write.format(\"kafka\") \\\n",
    "                .option(\"kafka.bootstrap.servers\", \"77.81.230.104:9092\") \\\n",
    "                .option(\"topic\", alert_topic_name) \\\n",
    "                .option(\"kafka.security.protocol\", \"SASL_PLAINTEXT\") \\\n",
    "                .option(\"kafka.sasl.mechanism\", \"PLAIN\") \\\n",
    "                .option(\"kafka.sasl.jaas.config\",\n",
    "                        \"org.apache.kafka.common.security.plain.PlainLoginModule required username='admin' password='VawEzo1ikLtrA8Ug8THa';\") \\\n",
    "                .save()\n",
    "    except Exception as e:\n",
    "        print(f\"Помилка під час запису даних у Kafka: {e}\")\n",
    "\n",
    "# Запис оброблених даних у вихідний топік\n",
    "query = prepare_to_kafka_df.writeStream \\\n",
    "    .foreachBatch(process_batch) \\\n",
    "    .trigger(processingTime='30 seconds') \\\n",
    "    .outputMode(\"update\") \\\n",
    "    .option(\"checkpointLocation\", \"/tmp/checkpoints-15\") \\\n",
    "    .start() \\\n",
    "    .awaitTermination()"
   ]
  }
 ],
 "metadata": {
  "kernelspec": {
   "display_name": "Python 3 (ipykernel)",
   "language": "python",
   "name": "python3"
  },
  "language_info": {
   "codemirror_mode": {
    "name": "ipython",
    "version": 3
   },
   "file_extension": ".py",
   "mimetype": "text/x-python",
   "name": "python",
   "nbconvert_exporter": "python",
   "pygments_lexer": "ipython3",
   "version": "3.11.6"
  }
 },
 "nbformat": 4,
 "nbformat_minor": 5
}
